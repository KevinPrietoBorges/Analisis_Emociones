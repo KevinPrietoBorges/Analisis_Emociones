{
 "cells": [
  {
   "cell_type": "markdown",
   "id": "69e3e189",
   "metadata": {
    "papermill": {
     "duration": 0.004306,
     "end_time": "2024-06-07T00:47:56.983708",
     "exception": false,
     "start_time": "2024-06-07T00:47:56.979402",
     "status": "completed"
    },
    "tags": []
   },
   "source": [
    "# **Importando librerias necesarias**"
   ]
  },
  {
   "cell_type": "code",
   "execution_count": 1,
   "id": "cd8e605f",
   "metadata": {
    "execution": {
     "iopub.execute_input": "2024-06-07T00:47:56.993625Z",
     "iopub.status.busy": "2024-06-07T00:47:56.993202Z",
     "iopub.status.idle": "2024-06-07T00:49:16.994405Z",
     "shell.execute_reply": "2024-06-07T00:49:16.992608Z"
    },
    "papermill": {
     "duration": 80.009653,
     "end_time": "2024-06-07T00:49:16.997481",
     "exception": false,
     "start_time": "2024-06-07T00:47:56.987828",
     "status": "completed"
    },
    "tags": []
   },
   "outputs": [
    {
     "name": "stdout",
     "output_type": "stream",
     "text": [
      "Collecting tensorflow==2.16.1\r\n",
      "  Downloading tensorflow-2.16.1-cp310-cp310-manylinux_2_17_x86_64.manylinux2014_x86_64.whl.metadata (4.3 kB)\r\n",
      "Requirement already satisfied: absl-py>=1.0.0 in /opt/conda/lib/python3.10/site-packages (from tensorflow==2.16.1) (1.4.0)\r\n",
      "Requirement already satisfied: astunparse>=1.6.0 in /opt/conda/lib/python3.10/site-packages (from tensorflow==2.16.1) (1.6.3)\r\n",
      "Requirement already satisfied: flatbuffers>=23.5.26 in /opt/conda/lib/python3.10/site-packages (from tensorflow==2.16.1) (23.5.26)\r\n",
      "Requirement already satisfied: gast!=0.5.0,!=0.5.1,!=0.5.2,>=0.2.1 in /opt/conda/lib/python3.10/site-packages (from tensorflow==2.16.1) (0.5.4)\r\n",
      "Requirement already satisfied: google-pasta>=0.1.1 in /opt/conda/lib/python3.10/site-packages (from tensorflow==2.16.1) (0.2.0)\r\n",
      "Requirement already satisfied: h5py>=3.10.0 in /opt/conda/lib/python3.10/site-packages (from tensorflow==2.16.1) (3.10.0)\r\n",
      "Requirement already satisfied: libclang>=13.0.0 in /opt/conda/lib/python3.10/site-packages (from tensorflow==2.16.1) (16.0.6)\r\n",
      "Collecting ml-dtypes~=0.3.1 (from tensorflow==2.16.1)\r\n",
      "  Downloading ml_dtypes-0.3.2-cp310-cp310-manylinux_2_17_x86_64.manylinux2014_x86_64.whl.metadata (20 kB)\r\n",
      "Requirement already satisfied: opt-einsum>=2.3.2 in /opt/conda/lib/python3.10/site-packages (from tensorflow==2.16.1) (3.3.0)\r\n",
      "Requirement already satisfied: packaging in /opt/conda/lib/python3.10/site-packages (from tensorflow==2.16.1) (21.3)\r\n",
      "Requirement already satisfied: protobuf!=4.21.0,!=4.21.1,!=4.21.2,!=4.21.3,!=4.21.4,!=4.21.5,<5.0.0dev,>=3.20.3 in /opt/conda/lib/python3.10/site-packages (from tensorflow==2.16.1) (3.20.3)\r\n",
      "Requirement already satisfied: requests<3,>=2.21.0 in /opt/conda/lib/python3.10/site-packages (from tensorflow==2.16.1) (2.32.3)\r\n",
      "Requirement already satisfied: setuptools in /opt/conda/lib/python3.10/site-packages (from tensorflow==2.16.1) (69.0.3)\r\n",
      "Requirement already satisfied: six>=1.12.0 in /opt/conda/lib/python3.10/site-packages (from tensorflow==2.16.1) (1.16.0)\r\n",
      "Requirement already satisfied: termcolor>=1.1.0 in /opt/conda/lib/python3.10/site-packages (from tensorflow==2.16.1) (2.4.0)\r\n",
      "Requirement already satisfied: typing-extensions>=3.6.6 in /opt/conda/lib/python3.10/site-packages (from tensorflow==2.16.1) (4.9.0)\r\n",
      "Requirement already satisfied: wrapt>=1.11.0 in /opt/conda/lib/python3.10/site-packages (from tensorflow==2.16.1) (1.14.1)\r\n",
      "Requirement already satisfied: grpcio<2.0,>=1.24.3 in /opt/conda/lib/python3.10/site-packages (from tensorflow==2.16.1) (1.60.0)\r\n",
      "Collecting tensorboard<2.17,>=2.16 (from tensorflow==2.16.1)\r\n",
      "  Downloading tensorboard-2.16.2-py3-none-any.whl.metadata (1.6 kB)\r\n",
      "Requirement already satisfied: keras>=3.0.0 in /opt/conda/lib/python3.10/site-packages (from tensorflow==2.16.1) (3.3.3)\r\n",
      "Requirement already satisfied: tensorflow-io-gcs-filesystem>=0.23.1 in /opt/conda/lib/python3.10/site-packages (from tensorflow==2.16.1) (0.35.0)\r\n",
      "Requirement already satisfied: numpy<2.0.0,>=1.23.5 in /opt/conda/lib/python3.10/site-packages (from tensorflow==2.16.1) (1.26.4)\r\n",
      "Requirement already satisfied: wheel<1.0,>=0.23.0 in /opt/conda/lib/python3.10/site-packages (from astunparse>=1.6.0->tensorflow==2.16.1) (0.42.0)\r\n",
      "Requirement already satisfied: rich in /opt/conda/lib/python3.10/site-packages (from keras>=3.0.0->tensorflow==2.16.1) (13.7.0)\r\n",
      "Requirement already satisfied: namex in /opt/conda/lib/python3.10/site-packages (from keras>=3.0.0->tensorflow==2.16.1) (0.0.8)\r\n",
      "Requirement already satisfied: optree in /opt/conda/lib/python3.10/site-packages (from keras>=3.0.0->tensorflow==2.16.1) (0.11.0)\r\n",
      "Requirement already satisfied: charset-normalizer<4,>=2 in /opt/conda/lib/python3.10/site-packages (from requests<3,>=2.21.0->tensorflow==2.16.1) (3.3.2)\r\n",
      "Requirement already satisfied: idna<4,>=2.5 in /opt/conda/lib/python3.10/site-packages (from requests<3,>=2.21.0->tensorflow==2.16.1) (3.6)\r\n",
      "Requirement already satisfied: urllib3<3,>=1.21.1 in /opt/conda/lib/python3.10/site-packages (from requests<3,>=2.21.0->tensorflow==2.16.1) (1.26.18)\r\n",
      "Requirement already satisfied: certifi>=2017.4.17 in /opt/conda/lib/python3.10/site-packages (from requests<3,>=2.21.0->tensorflow==2.16.1) (2024.2.2)\r\n",
      "Requirement already satisfied: markdown>=2.6.8 in /opt/conda/lib/python3.10/site-packages (from tensorboard<2.17,>=2.16->tensorflow==2.16.1) (3.5.2)\r\n",
      "Requirement already satisfied: tensorboard-data-server<0.8.0,>=0.7.0 in /opt/conda/lib/python3.10/site-packages (from tensorboard<2.17,>=2.16->tensorflow==2.16.1) (0.7.2)\r\n",
      "Requirement already satisfied: werkzeug>=1.0.1 in /opt/conda/lib/python3.10/site-packages (from tensorboard<2.17,>=2.16->tensorflow==2.16.1) (3.0.3)\r\n",
      "Requirement already satisfied: pyparsing!=3.0.5,>=2.0.2 in /opt/conda/lib/python3.10/site-packages (from packaging->tensorflow==2.16.1) (3.1.1)\r\n",
      "Requirement already satisfied: MarkupSafe>=2.1.1 in /opt/conda/lib/python3.10/site-packages (from werkzeug>=1.0.1->tensorboard<2.17,>=2.16->tensorflow==2.16.1) (2.1.3)\r\n",
      "Requirement already satisfied: markdown-it-py>=2.2.0 in /opt/conda/lib/python3.10/site-packages (from rich->keras>=3.0.0->tensorflow==2.16.1) (3.0.0)\r\n",
      "Requirement already satisfied: pygments<3.0.0,>=2.13.0 in /opt/conda/lib/python3.10/site-packages (from rich->keras>=3.0.0->tensorflow==2.16.1) (2.17.2)\r\n",
      "Requirement already satisfied: mdurl~=0.1 in /opt/conda/lib/python3.10/site-packages (from markdown-it-py>=2.2.0->rich->keras>=3.0.0->tensorflow==2.16.1) (0.1.2)\r\n",
      "Downloading tensorflow-2.16.1-cp310-cp310-manylinux_2_17_x86_64.manylinux2014_x86_64.whl (589.8 MB)\r\n",
      "\u001b[2K   \u001b[90m━━━━━━━━━━━━━━━━━━━━━━━━━━━━━━━━━━━━━━━━\u001b[0m \u001b[32m589.8/589.8 MB\u001b[0m \u001b[31m2.7 MB/s\u001b[0m eta \u001b[36m0:00:00\u001b[0m\r\n",
      "\u001b[?25hDownloading ml_dtypes-0.3.2-cp310-cp310-manylinux_2_17_x86_64.manylinux2014_x86_64.whl (2.2 MB)\r\n",
      "\u001b[2K   \u001b[90m━━━━━━━━━━━━━━━━━━━━━━━━━━━━━━━━━━━━━━━━\u001b[0m \u001b[32m2.2/2.2 MB\u001b[0m \u001b[31m53.0 MB/s\u001b[0m eta \u001b[36m0:00:00\u001b[0m\r\n",
      "\u001b[?25hDownloading tensorboard-2.16.2-py3-none-any.whl (5.5 MB)\r\n",
      "\u001b[2K   \u001b[90m━━━━━━━━━━━━━━━━━━━━━━━━━━━━━━━━━━━━━━━━\u001b[0m \u001b[32m5.5/5.5 MB\u001b[0m \u001b[31m83.8 MB/s\u001b[0m eta \u001b[36m0:00:00\u001b[0m\r\n",
      "\u001b[?25hInstalling collected packages: ml-dtypes, tensorboard, tensorflow\r\n",
      "  Attempting uninstall: ml-dtypes\r\n",
      "    Found existing installation: ml-dtypes 0.2.0\r\n",
      "    Uninstalling ml-dtypes-0.2.0:\r\n",
      "      Successfully uninstalled ml-dtypes-0.2.0\r\n",
      "  Attempting uninstall: tensorboard\r\n",
      "    Found existing installation: tensorboard 2.15.1\r\n",
      "    Uninstalling tensorboard-2.15.1:\r\n",
      "      Successfully uninstalled tensorboard-2.15.1\r\n",
      "  Attempting uninstall: tensorflow\r\n",
      "    Found existing installation: tensorflow 2.15.0\r\n",
      "    Uninstalling tensorflow-2.15.0:\r\n",
      "      Successfully uninstalled tensorflow-2.15.0\r\n",
      "\u001b[31mERROR: pip's dependency resolver does not currently take into account all the packages that are installed. This behaviour is the source of the following dependency conflicts.\r\n",
      "tensorflow-decision-forests 1.8.1 requires wurlitzer, which is not installed.\r\n",
      "tensorflow-decision-forests 1.8.1 requires tensorflow~=2.15.0, but you have tensorflow 2.16.1 which is incompatible.\r\n",
      "tensorflow-text 2.15.0 requires tensorflow<2.16,>=2.15.0; platform_machine != \"arm64\" or platform_system != \"Darwin\", but you have tensorflow 2.16.1 which is incompatible.\r\n",
      "tf-keras 2.15.1 requires tensorflow<2.16,>=2.15, but you have tensorflow 2.16.1 which is incompatible.\u001b[0m\u001b[31m\r\n",
      "\u001b[0mSuccessfully installed ml-dtypes-0.3.2 tensorboard-2.16.2 tensorflow-2.16.1\r\n"
     ]
    }
   ],
   "source": [
    "!pip install tensorflow==2.16.1"
   ]
  },
  {
   "cell_type": "code",
   "execution_count": 2,
   "id": "6f2f0185",
   "metadata": {
    "execution": {
     "iopub.execute_input": "2024-06-07T00:49:17.034359Z",
     "iopub.status.busy": "2024-06-07T00:49:17.033868Z",
     "iopub.status.idle": "2024-06-07T00:49:26.094095Z",
     "shell.execute_reply": "2024-06-07T00:49:26.092720Z"
    },
    "papermill": {
     "duration": 9.081997,
     "end_time": "2024-06-07T00:49:26.097099",
     "exception": false,
     "start_time": "2024-06-07T00:49:17.015102",
     "status": "completed"
    },
    "tags": []
   },
   "outputs": [],
   "source": [
    "import numpy as np \n",
    "import pandas as pd\n",
    "import matplotlib.pyplot as plt\n",
    "import seaborn as sns\n",
    "from wordcloud import WordCloud\n",
    "from nltk.stem.snowball import SnowballStemmer\n",
    "from keras.preprocessing import sequence\n",
    "from sklearn.model_selection import train_test_split\n",
    "from tensorflow.keras.models import Sequential\n",
    "from tensorflow.keras.layers import *\n",
    "from tensorflow.keras.preprocessing.sequence import pad_sequences\n",
    "from tensorflow.keras.preprocessing.text import Tokenizer\n",
    "import re"
   ]
  },
  {
   "cell_type": "markdown",
   "id": "1cb22a7b",
   "metadata": {
    "papermill": {
     "duration": 0.017162,
     "end_time": "2024-06-07T00:49:26.134403",
     "exception": false,
     "start_time": "2024-06-07T00:49:26.117241",
     "status": "completed"
    },
    "tags": []
   },
   "source": [
    "# **Cargando Datos del Dataset y Preprocesando**"
   ]
  },
  {
   "cell_type": "code",
   "execution_count": 3,
   "id": "0360529e",
   "metadata": {
    "execution": {
     "iopub.execute_input": "2024-06-07T00:49:26.170989Z",
     "iopub.status.busy": "2024-06-07T00:49:26.170219Z",
     "iopub.status.idle": "2024-06-07T00:49:27.445852Z",
     "shell.execute_reply": "2024-06-07T00:49:27.444594Z"
    },
    "papermill": {
     "duration": 1.296918,
     "end_time": "2024-06-07T00:49:27.448622",
     "exception": false,
     "start_time": "2024-06-07T00:49:26.151704",
     "status": "completed"
    },
    "tags": []
   },
   "outputs": [
    {
     "data": {
      "text/html": [
       "<div>\n",
       "<style scoped>\n",
       "    .dataframe tbody tr th:only-of-type {\n",
       "        vertical-align: middle;\n",
       "    }\n",
       "\n",
       "    .dataframe tbody tr th {\n",
       "        vertical-align: top;\n",
       "    }\n",
       "\n",
       "    .dataframe thead th {\n",
       "        text-align: right;\n",
       "    }\n",
       "</style>\n",
       "<table border=\"1\" class=\"dataframe\">\n",
       "  <thead>\n",
       "    <tr style=\"text-align: right;\">\n",
       "      <th></th>\n",
       "      <th>Unnamed: 0</th>\n",
       "      <th>text</th>\n",
       "      <th>label</th>\n",
       "    </tr>\n",
       "  </thead>\n",
       "  <tbody>\n",
       "    <tr>\n",
       "      <th>0</th>\n",
       "      <td>0</td>\n",
       "      <td>i just feel really helpless and heavy hearted</td>\n",
       "      <td>4</td>\n",
       "    </tr>\n",
       "    <tr>\n",
       "      <th>1</th>\n",
       "      <td>1</td>\n",
       "      <td>ive enjoyed being able to slouch about relax a...</td>\n",
       "      <td>0</td>\n",
       "    </tr>\n",
       "    <tr>\n",
       "      <th>2</th>\n",
       "      <td>2</td>\n",
       "      <td>i gave up my internship with the dmrg and am f...</td>\n",
       "      <td>4</td>\n",
       "    </tr>\n",
       "    <tr>\n",
       "      <th>3</th>\n",
       "      <td>3</td>\n",
       "      <td>i dont know i feel so lost</td>\n",
       "      <td>0</td>\n",
       "    </tr>\n",
       "    <tr>\n",
       "      <th>4</th>\n",
       "      <td>4</td>\n",
       "      <td>i am a kindergarten teacher and i am thoroughl...</td>\n",
       "      <td>4</td>\n",
       "    </tr>\n",
       "  </tbody>\n",
       "</table>\n",
       "</div>"
      ],
      "text/plain": [
       "   Unnamed: 0                                               text  label\n",
       "0           0      i just feel really helpless and heavy hearted      4\n",
       "1           1  ive enjoyed being able to slouch about relax a...      0\n",
       "2           2  i gave up my internship with the dmrg and am f...      4\n",
       "3           3                         i dont know i feel so lost      0\n",
       "4           4  i am a kindergarten teacher and i am thoroughl...      4"
      ]
     },
     "execution_count": 3,
     "metadata": {},
     "output_type": "execute_result"
    }
   ],
   "source": [
    "df = pd.read_csv('/kaggle/input/emotions/text.csv')\n",
    "df.head()"
   ]
  },
  {
   "cell_type": "code",
   "execution_count": 4,
   "id": "16389389",
   "metadata": {
    "execution": {
     "iopub.execute_input": "2024-06-07T00:49:27.486565Z",
     "iopub.status.busy": "2024-06-07T00:49:27.486036Z",
     "iopub.status.idle": "2024-06-07T00:49:27.492465Z",
     "shell.execute_reply": "2024-06-07T00:49:27.491247Z"
    },
    "papermill": {
     "duration": 0.028592,
     "end_time": "2024-06-07T00:49:27.495362",
     "exception": false,
     "start_time": "2024-06-07T00:49:27.466770",
     "status": "completed"
    },
    "tags": []
   },
   "outputs": [
    {
     "name": "stdout",
     "output_type": "stream",
     "text": [
      "Dimension de los datos : (416809, 3)\n"
     ]
    }
   ],
   "source": [
    "print(f'Dimension de los datos : {df.shape}') #(Filas,Columnas)"
   ]
  },
  {
   "cell_type": "code",
   "execution_count": 5,
   "id": "87a31324",
   "metadata": {
    "execution": {
     "iopub.execute_input": "2024-06-07T00:49:27.533141Z",
     "iopub.status.busy": "2024-06-07T00:49:27.531767Z",
     "iopub.status.idle": "2024-06-07T00:49:27.794442Z",
     "shell.execute_reply": "2024-06-07T00:49:27.793253Z"
    },
    "papermill": {
     "duration": 0.283897,
     "end_time": "2024-06-07T00:49:27.797021",
     "exception": false,
     "start_time": "2024-06-07T00:49:27.513124",
     "status": "completed"
    },
    "tags": []
   },
   "outputs": [
    {
     "data": {
      "text/plain": [
       "0"
      ]
     },
     "execution_count": 5,
     "metadata": {},
     "output_type": "execute_result"
    }
   ],
   "source": [
    "df.duplicated().sum() #Comprobando las filas duplicadas"
   ]
  },
  {
   "cell_type": "code",
   "execution_count": 6,
   "id": "d8c157a4",
   "metadata": {
    "execution": {
     "iopub.execute_input": "2024-06-07T00:49:27.833395Z",
     "iopub.status.busy": "2024-06-07T00:49:27.833007Z",
     "iopub.status.idle": "2024-06-07T00:49:27.875707Z",
     "shell.execute_reply": "2024-06-07T00:49:27.874447Z"
    },
    "papermill": {
     "duration": 0.063844,
     "end_time": "2024-06-07T00:49:27.878348",
     "exception": false,
     "start_time": "2024-06-07T00:49:27.814504",
     "status": "completed"
    },
    "tags": []
   },
   "outputs": [
    {
     "data": {
      "text/plain": [
       "Unnamed: 0    0\n",
       "text          0\n",
       "label         0\n",
       "dtype: int64"
      ]
     },
     "execution_count": 6,
     "metadata": {},
     "output_type": "execute_result"
    }
   ],
   "source": [
    "df.isnull().sum() #Comprobando las vacias"
   ]
  },
  {
   "cell_type": "code",
   "execution_count": 7,
   "id": "c6c86107",
   "metadata": {
    "execution": {
     "iopub.execute_input": "2024-06-07T00:49:27.916772Z",
     "iopub.status.busy": "2024-06-07T00:49:27.916381Z",
     "iopub.status.idle": "2024-06-07T00:49:27.922385Z",
     "shell.execute_reply": "2024-06-07T00:49:27.921128Z"
    },
    "papermill": {
     "duration": 0.028731,
     "end_time": "2024-06-07T00:49:27.924879",
     "exception": false,
     "start_time": "2024-06-07T00:49:27.896148",
     "status": "completed"
    },
    "tags": []
   },
   "outputs": [],
   "source": [
    "#Renombrando columnas para mayor legibilidad (inplance hace que no te devuelva un dataframe y guarde todo en el mismo dataframe)\n",
    "df.rename(columns={'text': 'Text', 'label': 'Label'}, inplace=True)"
   ]
  },
  {
   "cell_type": "code",
   "execution_count": 8,
   "id": "109f2fee",
   "metadata": {
    "execution": {
     "iopub.execute_input": "2024-06-07T00:49:27.960831Z",
     "iopub.status.busy": "2024-06-07T00:49:27.960452Z",
     "iopub.status.idle": "2024-06-07T00:49:27.984291Z",
     "shell.execute_reply": "2024-06-07T00:49:27.983157Z"
    },
    "papermill": {
     "duration": 0.044708,
     "end_time": "2024-06-07T00:49:27.986800",
     "exception": false,
     "start_time": "2024-06-07T00:49:27.942092",
     "status": "completed"
    },
    "tags": []
   },
   "outputs": [],
   "source": [
    "#Eliminando la columna Unnamed , aparece en los csv donde hay un indice sin nombre\n",
    "#axis 1 elimina columna , axis 0 una fila\n",
    "df.drop('Unnamed: 0',axis=1,inplace=True)"
   ]
  },
  {
   "cell_type": "code",
   "execution_count": 9,
   "id": "7b4f81df",
   "metadata": {
    "execution": {
     "iopub.execute_input": "2024-06-07T00:49:28.023116Z",
     "iopub.status.busy": "2024-06-07T00:49:28.022670Z",
     "iopub.status.idle": "2024-06-07T00:49:28.033286Z",
     "shell.execute_reply": "2024-06-07T00:49:28.032113Z"
    },
    "papermill": {
     "duration": 0.031606,
     "end_time": "2024-06-07T00:49:28.035739",
     "exception": false,
     "start_time": "2024-06-07T00:49:28.004133",
     "status": "completed"
    },
    "tags": []
   },
   "outputs": [
    {
     "data": {
      "text/html": [
       "<div>\n",
       "<style scoped>\n",
       "    .dataframe tbody tr th:only-of-type {\n",
       "        vertical-align: middle;\n",
       "    }\n",
       "\n",
       "    .dataframe tbody tr th {\n",
       "        vertical-align: top;\n",
       "    }\n",
       "\n",
       "    .dataframe thead th {\n",
       "        text-align: right;\n",
       "    }\n",
       "</style>\n",
       "<table border=\"1\" class=\"dataframe\">\n",
       "  <thead>\n",
       "    <tr style=\"text-align: right;\">\n",
       "      <th></th>\n",
       "      <th>Text</th>\n",
       "      <th>Label</th>\n",
       "    </tr>\n",
       "  </thead>\n",
       "  <tbody>\n",
       "    <tr>\n",
       "      <th>0</th>\n",
       "      <td>i just feel really helpless and heavy hearted</td>\n",
       "      <td>4</td>\n",
       "    </tr>\n",
       "    <tr>\n",
       "      <th>1</th>\n",
       "      <td>ive enjoyed being able to slouch about relax a...</td>\n",
       "      <td>0</td>\n",
       "    </tr>\n",
       "    <tr>\n",
       "      <th>2</th>\n",
       "      <td>i gave up my internship with the dmrg and am f...</td>\n",
       "      <td>4</td>\n",
       "    </tr>\n",
       "    <tr>\n",
       "      <th>3</th>\n",
       "      <td>i dont know i feel so lost</td>\n",
       "      <td>0</td>\n",
       "    </tr>\n",
       "    <tr>\n",
       "      <th>4</th>\n",
       "      <td>i am a kindergarten teacher and i am thoroughl...</td>\n",
       "      <td>4</td>\n",
       "    </tr>\n",
       "  </tbody>\n",
       "</table>\n",
       "</div>"
      ],
      "text/plain": [
       "                                                Text  Label\n",
       "0      i just feel really helpless and heavy hearted      4\n",
       "1  ive enjoyed being able to slouch about relax a...      0\n",
       "2  i gave up my internship with the dmrg and am f...      4\n",
       "3                         i dont know i feel so lost      0\n",
       "4  i am a kindergarten teacher and i am thoroughl...      4"
      ]
     },
     "execution_count": 9,
     "metadata": {},
     "output_type": "execute_result"
    }
   ],
   "source": [
    "#Visualizando cambios \n",
    "df.head()"
   ]
  },
  {
   "cell_type": "code",
   "execution_count": 10,
   "id": "17621c99",
   "metadata": {
    "execution": {
     "iopub.execute_input": "2024-06-07T00:49:28.072737Z",
     "iopub.status.busy": "2024-06-07T00:49:28.072328Z",
     "iopub.status.idle": "2024-06-07T00:49:28.305121Z",
     "shell.execute_reply": "2024-06-07T00:49:28.303930Z"
    },
    "papermill": {
     "duration": 0.254466,
     "end_time": "2024-06-07T00:49:28.307724",
     "exception": false,
     "start_time": "2024-06-07T00:49:28.053258",
     "status": "completed"
    },
    "tags": []
   },
   "outputs": [],
   "source": [
    "#Renombrando las columnas a las emociones (ingles es el idioma del dataset)\n",
    "#0: 'sadness', 1: 'joy', 2: 'love', 3: 'anger', 4: 'fear', 5: 'surprise'\n",
    "df['Label'] = df['Label'].replace(0,'Sadness')\n",
    "df['Label'] = df['Label'].replace(1,'Joy')\n",
    "df['Label'] = df['Label'].replace(2,'Love')\n",
    "df['Label'] = df['Label'].replace(3,'Anger')\n",
    "df['Label'] = df['Label'].replace(4,'Fear')\n",
    "df['Label'] = df['Label'].replace(5,'Surprise')"
   ]
  },
  {
   "cell_type": "code",
   "execution_count": 11,
   "id": "6625bf82",
   "metadata": {
    "execution": {
     "iopub.execute_input": "2024-06-07T00:49:28.344467Z",
     "iopub.status.busy": "2024-06-07T00:49:28.344093Z",
     "iopub.status.idle": "2024-06-07T00:49:28.875056Z",
     "shell.execute_reply": "2024-06-07T00:49:28.873830Z"
    },
    "papermill": {
     "duration": 0.552691,
     "end_time": "2024-06-07T00:49:28.877985",
     "exception": false,
     "start_time": "2024-06-07T00:49:28.325294",
     "status": "completed"
    },
    "tags": []
   },
   "outputs": [
    {
     "data": {
      "image/png": "[encoded data removed]",
      "text/plain": [
       "<Figure size 1200x600 with 2 Axes>"
      ]
     },
     "metadata": {},
     "output_type": "display_data"
    }
   ],
   "source": [
    "#Visualizando graficos para entender mejor el dataset\n",
    "\n",
    "# Sumando la cant de cada categoria\n",
    "count = df['Label'].value_counts()\n",
    "\n",
    "# Creando figura con dos graficos \n",
    "fig, axs = plt.subplots(1, 2, figsize=(12, 6), facecolor='white')\n",
    "\n",
    "# Grafico de Pastel\n",
    "palette = sns.color_palette(\"muted\")\n",
    "sns.set_palette(palette)\n",
    "axs[0].pie(count, labels=count.index, autopct='%1.1f%%', startangle=140)\n",
    "axs[0].set_title('Distribucion de Porcentajes')\n",
    "\n",
    "# Grafico de Barras\n",
    "sns.barplot(x=count.index, y=count.values, ax=axs[1], palette=\"muted\")\n",
    "axs[1].set_title('Cant Categorias')\n",
    "\n",
    "plt.tight_layout()\n",
    "\n",
    "plt.show()"
   ]
  },
  {
   "cell_type": "markdown",
   "id": "d38b6b6a",
   "metadata": {
    "papermill": {
     "duration": 0.018249,
     "end_time": "2024-06-07T00:49:28.916561",
     "exception": false,
     "start_time": "2024-06-07T00:49:28.898312",
     "status": "completed"
    },
    "tags": []
   },
   "source": []
  }
 ],
 "metadata": {
  "kaggle": {
   "accelerator": "none",
   "dataSources": [
    {
     "datasetId": 4403839,
     "sourceId": 7563141,
     "sourceType": "datasetVersion"
    }
   ],
   "dockerImageVersionId": 30732,
   "isGpuEnabled": false,
   "isInternetEnabled": true,
   "language": "python",
   "sourceType": "notebook"
  },
  "kernelspec": {
   "display_name": "Python 3",
   "language": "python",
   "name": "python3"
  },
  "language_info": {
   "codemirror_mode": {
    "name": "ipython",
    "version": 3
   },
   "file_extension": ".py",
   "mimetype": "text/x-python",
   "name": "python",
   "nbconvert_exporter": "python",
   "pygments_lexer": "ipython3",
   "version": "3.10.13"
  },
  "papermill": {
   "default_parameters": {},
   "duration": 97.194731,
   "end_time": "2024-06-07T00:49:31.218863",
   "environment_variables": {},
   "exception": null,
   "input_path": "__notebook__.ipynb",
   "output_path": "__notebook__.ipynb",
   "parameters": {},
   "start_time": "2024-06-07T00:47:54.024132",
   "version": "2.5.0"
  }
 },
 "nbformat": 4,
 "nbformat_minor": 5
}
